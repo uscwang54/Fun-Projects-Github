{
 "cells": [
  {
   "cell_type": "code",
   "execution_count": 1,
   "metadata": {},
   "outputs": [],
   "source": [
    "import smtplib\n",
    "from email.mime.text import MIMEText\n",
    "from email.mime.multipart import MIMEMultipart\n",
    "import pandas as pd"
   ]
  },
  {
   "cell_type": "code",
   "execution_count": 2,
   "metadata": {},
   "outputs": [],
   "source": [
    "def send_mail(name, to_addr):\n",
    "    '''\n",
    "    send email to the address provided\n",
    "    '''\n",
    "    mailuser='toughtrailblazers@gmail.com'\n",
    "    mailpass=\"Tbrocks2020\"\n",
    "    smtp = smtplib.SMTP('smtp.gmail.com', 587)\n",
    "    smtp.ehlo()\n",
    "    smtp.starttls()\n",
    "    smtp.login(mailuser,mailpass)\n",
    "    \n",
    "    msg = MIMEMultipart('alternative')\n",
    "    msg['Subject']= \"创业与省税Confirmation\"\n",
    "    msg['From']   = mailuser \n",
    "    msg['To'] = to_addr\n",
    "    \n",
    "    html = f\"\"\"\\\n",
    "    <html>\n",
    "      <head></head>\n",
    "      <body>\n",
    "        <p>Hi {name},<br>\n",
    "           </p><p>\n",
    "           Thank you for registering for \"创业与省税\".<br>\n",
    "           </p><p>\n",
    "           Please submit any questions to: toughTrailblazers@gmail.com<br>\n",
    "           </p><p>\n",
    "           Date Time: Feb 24, 2021 08:30 PM Eastern Time (US and Canada)<br>\n",
    "                                   07:30 PM Central Time (US and Canada)<br>\n",
    "                                   05:30 PM Pacific Time  (US and Canada)<br>\n",
    "           </p>                   \n",
    "           Join from a PC, Mac, iPad, iPhone or Android device:<br>\n",
    "           Please click this URL to join. <a href=\"https://us02web.zoom.us/j/4035297702\">[Join Link]</a>   \n",
    "           <p style=\"color:red;\">Please copy the Passcode before you enter here!</p>\n",
    "    \n",
    "           Note: This link should not be shared with others; it is unique to you.<br>\n",
    "           Passcode: 7702403529 （Required for join)<br>\n",
    "      </body>\n",
    "    </html>\n",
    "    \"\"\"\n",
    "    part = MIMEText(html, 'html')\n",
    "    msg.attach(part)\n",
    "\n",
    "    smtp.sendmail(mailuser, to_addr, msg.as_string())\n",
    "    smtp.quit()"
   ]
  },
  {
   "cell_type": "code",
   "execution_count": 28,
   "metadata": {},
   "outputs": [
    {
     "name": "stdout",
     "output_type": "stream",
     "text": [
      "Total 3 entries.\n"
     ]
    },
    {
     "data": {
      "text/html": [
       "<div>\n",
       "<style scoped>\n",
       "    .dataframe tbody tr th:only-of-type {\n",
       "        vertical-align: middle;\n",
       "    }\n",
       "\n",
       "    .dataframe tbody tr th {\n",
       "        vertical-align: top;\n",
       "    }\n",
       "\n",
       "    .dataframe thead th {\n",
       "        text-align: right;\n",
       "    }\n",
       "</style>\n",
       "<table border=\"1\" class=\"dataframe\">\n",
       "  <thead>\n",
       "    <tr style=\"text-align: right;\">\n",
       "      <th></th>\n",
       "      <th>Timestamp</th>\n",
       "      <th>First name</th>\n",
       "      <th>Last name</th>\n",
       "      <th>Email address</th>\n",
       "    </tr>\n",
       "  </thead>\n",
       "  <tbody>\n",
       "    <tr>\n",
       "      <th>0</th>\n",
       "      <td>2021-02-24 17:32:21</td>\n",
       "      <td>Virginia</td>\n",
       "      <td>Ng</td>\n",
       "      <td>vngtravel555@gmail.com</td>\n",
       "    </tr>\n",
       "    <tr>\n",
       "      <th>1</th>\n",
       "      <td>2021-02-24 17:38:05</td>\n",
       "      <td>Yen</td>\n",
       "      <td>Woo</td>\n",
       "      <td>Yenkangwoo@gmail.com</td>\n",
       "    </tr>\n",
       "    <tr>\n",
       "      <th>2</th>\n",
       "      <td>2021-02-24 17:38:16</td>\n",
       "      <td>Virginia</td>\n",
       "      <td>Ng</td>\n",
       "      <td>vngtravel555@gmail.com</td>\n",
       "    </tr>\n",
       "  </tbody>\n",
       "</table>\n",
       "</div>"
      ],
      "text/plain": [
       "            Timestamp First name Last name           Email address\n",
       "0 2021-02-24 17:32:21   Virginia        Ng  vngtravel555@gmail.com\n",
       "1 2021-02-24 17:38:05        Yen       Woo    Yenkangwoo@gmail.com\n",
       "2 2021-02-24 17:38:16   Virginia        Ng  vngtravel555@gmail.com"
      ]
     },
     "execution_count": 28,
     "metadata": {},
     "output_type": "execute_result"
    }
   ],
   "source": [
    "df = pd.read_excel(r\"C:\\Users\\Yu Wang\\Downloads\\创业与省税 (18).xlsx\")\n",
    "print(f\"Total {df.shape[0]} entries.\")\n",
    "df.head()"
   ]
  },
  {
   "cell_type": "code",
   "execution_count": 29,
   "metadata": {},
   "outputs": [
    {
     "name": "stdout",
     "output_type": "stream",
     "text": [
      "Sending email to Virginia Ng\n",
      "Email sent to Virginia Ng\n",
      "Sending email to Yen Woo\n",
      "Email sent to Yen Woo\n",
      "Sending email to Virginia Ng\n",
      "Email sent to Virginia Ng\n",
      "Total 3 emails sent.\n"
     ]
    }
   ],
   "source": [
    "counter = 0\n",
    "for _, row in df.iterrows():\n",
    "    first = row['First name']\n",
    "    last = row['Last name']\n",
    "    name = f'{first} {last}'\n",
    "    email = row['Email address']\n",
    "    print(f\"Sending email to {name}\")\n",
    "    send_mail(name, email)\n",
    "    print(f\"Email sent to {name}\")\n",
    "    counter += 1\n",
    "print(f\"Total {counter} emails sent.\")"
   ]
  },
  {
   "cell_type": "code",
   "execution_count": null,
   "metadata": {},
   "outputs": [],
   "source": []
  }
 ],
 "metadata": {
  "kernelspec": {
   "display_name": "Python 3",
   "language": "python",
   "name": "python3"
  },
  "language_info": {
   "codemirror_mode": {
    "name": "ipython",
    "version": 3
   },
   "file_extension": ".py",
   "mimetype": "text/x-python",
   "name": "python",
   "nbconvert_exporter": "python",
   "pygments_lexer": "ipython3",
   "version": "3.8.5"
  }
 },
 "nbformat": 4,
 "nbformat_minor": 2
}
