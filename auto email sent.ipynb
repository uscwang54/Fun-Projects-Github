{
 "cells": [
  {
   "cell_type": "code",
   "execution_count": 1,
   "metadata": {},
   "outputs": [],
   "source": [
    "import smtplib\n",
    "from email.mime.text import MIMEText\n",
    "from email.mime.multipart import MIMEMultipart\n",
    "import pandas as pd"
   ]
  },
  {
   "cell_type": "code",
   "execution_count": 20,
   "metadata": {},
   "outputs": [],
   "source": [
    "def send_mail(name, to_addr):\n",
    "    '''\n",
    "    send email to the address provided\n",
    "    '''\n",
    "    mailuser='toughtrailblazers@gmail.com'\n",
    "    mailpass=\"Tbrocks2020\"\n",
    "    smtp = smtplib.SMTP('smtp.gmail.com', 587)\n",
    "    smtp.ehlo()\n",
    "    smtp.starttls()\n",
    "    smtp.login(mailuser,mailpass)\n",
    "    \n",
    "    msg = MIMEMultipart('alternative')\n",
    "    msg['Subject']= \"Updated  Annual Compliance Certification 'ACC' March 31,2021 is the deadline\"\n",
    "    msg['From']   = mailuser \n",
    "    msg['To'] = to_addr\n",
    "    \n",
    "    html = f\"\"\"\n",
    "<p>Hello {name},</p>\n",
    "<p>&nbsp;</p>\n",
    "<p>I am contacting you on behalf of Team Trailblazers，for the reason of WFGIA Compliance requirement.&nbsp; The deadline for completing the 2020 &ndash; 2021 Annual Compliance Certification &ldquo;ACC&rdquo; is March 31, 2021.</p>\n",
    "<p>&nbsp;</p>\n",
    "<p>It is extremely important that it be completed by March 31, 2021 because WFGIA will be terminating your affiliation with the organization on April 1, 2021 for failure to comply with a Compliance request and we do not want to see that happen.</p>\n",
    "<p>&nbsp;</p>\n",
    "<p>I am also providing the instructions for accessing the ACC located in the Training Center.</p>\n",
    "<p>&nbsp;</p>\n",
    "<p>It is possible that some agents on the list may have already completed the ACC at this time and our records have not been updated yet.&nbsp; There may also be agents that are experiencing issues accessing the Training Center so please let me know and I will connect you with the company to let them find you an appropriate individuals at the Home Office to make sure the issues are resolved.</p>\n",
    "<p>&nbsp;</p>\n",
    "<p>Thank you for your help.</p>\n",
    "<p><strong>&nbsp;</strong></p>\n",
    "<p><strong>Instructions for Accessing the Annual Compliance Certification in the Training Center</strong></p>\n",
    "<ul>\n",
    "<li>Log into MyWFG.com <a href=\"https://url.emailprotection.link/?bCyw3-1GDaDTnzVcin4Qi3qmBYUKta2XgZXdve1zsp1MCS42B5UvIs16AD8sfRIBHvztWOeTbZWrd3ikmZow5kQ~~\">https://www.mywfg.com/</a></li>\n",
    "<li>Click on &ldquo;Menu&rdquo; (Red Button)</li>\n",
    "</ul>\n",
    "<p><img src=\"https://www.linkpicture.com/view.php?img=LPic605cfa8ece13b1176272083\" /></p>\n",
    "<ul>\n",
    "<li>Look for and click on &ldquo;Training Center&rdquo; near the bottom of the menu items</li>\n",
    "</ul>\n",
    "<p><img src=\"https://www.linkpicture.com/view.php?img=LPic605cfce94faba1730478310\" /></p>\n",
    "<ul>\n",
    "<li>Find &ldquo;WFGIA Annual Compliance Certification 2020 -2021&rdquo; and click on the image to begin the process</li>\n",
    "</ul>\n",
    "<p><img src=\"https://www.linkpicture.com/view.php?img=LPic605cfddf3ae6d229731722\" /></p>\n",
    "<ul>\n",
    "<li>Read the WFG Insurance Agency Guide and complete the WFGIA Annual Compliance Certification 2020 -2021 Acknowledgement to complete the certification process to receive a score of 100%. Some agents have only been completing the Acknowledgement so their score is only 50%. &nbsp; There is a check mark near the topic once completed. Note: The score must be 100% to receive a completion status.</li>\n",
    "</ul>\n",
    "<p><img src=\"https://www.linkpicture.com/view.php?img=LPic605cff03d3ea4154787472\" /></p>\n",
    "<p>&nbsp;&nbsp;&nbsp;&nbsp;&nbsp;&nbsp;&nbsp;</p>\n",
    "<p><br />Sincerely,</p>\n",
    "<p>&nbsp;</p>\n",
    "    \"\"\"\n",
    "    part = MIMEText(html, 'html')\n",
    "    msg.attach(part)\n",
    "\n",
    "    smtp.sendmail(mailuser, to_addr, msg.as_string())\n",
    "    smtp.quit()"
   ]
  },
  {
   "cell_type": "code",
   "execution_count": 28,
   "metadata": {},
   "outputs": [
    {
     "name": "stdout",
     "output_type": "stream",
     "text": [
      "Total 3 entries.\n"
     ]
    },
    {
     "data": {
      "text/html": [
       "<div>\n",
       "<style scoped>\n",
       "    .dataframe tbody tr th:only-of-type {\n",
       "        vertical-align: middle;\n",
       "    }\n",
       "\n",
       "    .dataframe tbody tr th {\n",
       "        vertical-align: top;\n",
       "    }\n",
       "\n",
       "    .dataframe thead th {\n",
       "        text-align: right;\n",
       "    }\n",
       "</style>\n",
       "<table border=\"1\" class=\"dataframe\">\n",
       "  <thead>\n",
       "    <tr style=\"text-align: right;\">\n",
       "      <th></th>\n",
       "      <th>Timestamp</th>\n",
       "      <th>First name</th>\n",
       "      <th>Last name</th>\n",
       "      <th>Email address</th>\n",
       "    </tr>\n",
       "  </thead>\n",
       "  <tbody>\n",
       "    <tr>\n",
       "      <th>0</th>\n",
       "      <td>2021-02-24 17:32:21</td>\n",
       "      <td>Virginia</td>\n",
       "      <td>Ng</td>\n",
       "      <td>vngtravel555@gmail.com</td>\n",
       "    </tr>\n",
       "    <tr>\n",
       "      <th>1</th>\n",
       "      <td>2021-02-24 17:38:05</td>\n",
       "      <td>Yen</td>\n",
       "      <td>Woo</td>\n",
       "      <td>Yenkangwoo@gmail.com</td>\n",
       "    </tr>\n",
       "    <tr>\n",
       "      <th>2</th>\n",
       "      <td>2021-02-24 17:38:16</td>\n",
       "      <td>Virginia</td>\n",
       "      <td>Ng</td>\n",
       "      <td>vngtravel555@gmail.com</td>\n",
       "    </tr>\n",
       "  </tbody>\n",
       "</table>\n",
       "</div>"
      ],
      "text/plain": [
       "            Timestamp First name Last name           Email address\n",
       "0 2021-02-24 17:32:21   Virginia        Ng  vngtravel555@gmail.com\n",
       "1 2021-02-24 17:38:05        Yen       Woo    Yenkangwoo@gmail.com\n",
       "2 2021-02-24 17:38:16   Virginia        Ng  vngtravel555@gmail.com"
      ]
     },
     "execution_count": 28,
     "metadata": {},
     "output_type": "execute_result"
    }
   ],
   "source": [
    "df = pd.read_excel(r\"C:\\Users\\Yu Wang\\Downloads\\创业与省税 (18).xlsx\")\n",
    "print(f\"Total {df.shape[0]} entries.\")\n",
    "df.head()"
   ]
  },
  {
   "cell_type": "code",
   "execution_count": 29,
   "metadata": {},
   "outputs": [
    {
     "name": "stdout",
     "output_type": "stream",
     "text": [
      "Sending email to Virginia Ng\n",
      "Email sent to Virginia Ng\n",
      "Sending email to Yen Woo\n",
      "Email sent to Yen Woo\n",
      "Sending email to Virginia Ng\n",
      "Email sent to Virginia Ng\n",
      "Total 3 emails sent.\n"
     ]
    }
   ],
   "source": [
    "counter = 0\n",
    "for _, row in df.iterrows():\n",
    "    first = row['First name']\n",
    "    last = row['Last name']\n",
    "    name = f'{first} {last}'\n",
    "    email = row['Email address']\n",
    "    print(f\"Sending email to {name}\")\n",
    "    send_mail(name, email)\n",
    "    print(f\"Email sent to {name}\")\n",
    "    counter += 1\n",
    "print(f\"Total {counter} emails sent.\")"
   ]
  },
  {
   "cell_type": "code",
   "execution_count": 10,
   "metadata": {},
   "outputs": [
    {
     "data": {
      "text/html": [
       "<div>\n",
       "<style scoped>\n",
       "    .dataframe tbody tr th:only-of-type {\n",
       "        vertical-align: middle;\n",
       "    }\n",
       "\n",
       "    .dataframe tbody tr th {\n",
       "        vertical-align: top;\n",
       "    }\n",
       "\n",
       "    .dataframe thead th {\n",
       "        text-align: right;\n",
       "    }\n",
       "</style>\n",
       "<table border=\"1\" class=\"dataframe\">\n",
       "  <thead>\n",
       "    <tr style=\"text-align: right;\">\n",
       "      <th></th>\n",
       "      <th>name</th>\n",
       "      <th>email</th>\n",
       "    </tr>\n",
       "  </thead>\n",
       "  <tbody>\n",
       "    <tr>\n",
       "      <th>0</th>\n",
       "      <td>Yu</td>\n",
       "      <td>uscwang54@gmail.com</td>\n",
       "    </tr>\n",
       "    <tr>\n",
       "      <th>1</th>\n",
       "      <td>Carolyn</td>\n",
       "      <td>carolynguo01@gmail.com</td>\n",
       "    </tr>\n",
       "  </tbody>\n",
       "</table>\n",
       "</div>"
      ],
      "text/plain": [
       "      name                   email\n",
       "0       Yu     uscwang54@gmail.com\n",
       "1  Carolyn  carolynguo01@gmail.com"
      ]
     },
     "execution_count": 10,
     "metadata": {},
     "output_type": "execute_result"
    }
   ],
   "source": [
    "df_test = pd.DataFrame({\"name\":[\"Yu\", \"Carolyn\"], \"email\":[\"uscwang54@gmail.com\", \"carolynguo01@gmail.com\"]})\n",
    "df_test"
   ]
  },
  {
   "cell_type": "code",
   "execution_count": 21,
   "metadata": {},
   "outputs": [
    {
     "name": "stdout",
     "output_type": "stream",
     "text": [
      "Sending email to Yu\n",
      "Email sent to Yu\n",
      "Sending email to Carolyn\n",
      "Email sent to Carolyn\n",
      "Total 2 emails sent.\n"
     ]
    }
   ],
   "source": [
    "counter = 0\n",
    "for _, row in df_test.iterrows():\n",
    "    name = row['name']\n",
    "    email = row['email']\n",
    "    print(f\"Sending email to {name}\")\n",
    "    send_mail(name, email)\n",
    "    print(f\"Email sent to {name}\")\n",
    "    counter += 1\n",
    "print(f\"Total {counter} emails sent.\")"
   ]
  },
  {
   "cell_type": "code",
   "execution_count": null,
   "metadata": {},
   "outputs": [],
   "source": []
  }
 ],
 "metadata": {
  "kernelspec": {
   "display_name": "Python 3",
   "language": "python",
   "name": "python3"
  },
  "language_info": {
   "codemirror_mode": {
    "name": "ipython",
    "version": 3
   },
   "file_extension": ".py",
   "mimetype": "text/x-python",
   "name": "python",
   "nbconvert_exporter": "python",
   "pygments_lexer": "ipython3",
   "version": "3.8.5"
  }
 },
 "nbformat": 4,
 "nbformat_minor": 2
}
