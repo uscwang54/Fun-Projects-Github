{
 "cells": [
  {
   "cell_type": "code",
   "execution_count": 1,
   "metadata": {},
   "outputs": [],
   "source": [
    "import pandas as pd\n",
    "from datetime import date\n",
    "import xlsxwriter"
   ]
  },
  {
   "cell_type": "code",
   "execution_count": 2,
   "metadata": {},
   "outputs": [],
   "source": [
    "smds = [\"Amy/YT Shih\", \"Ben Li\", \"Chen Ni/ Charlie Zhou\", \"Hong Zeng\", \"Jennie Xie\", \"Licong He\",\n",
    "       \"Yuemei Ding/Perry Zhao\", \"Xiao Chen\", \"Xiying Sheng\", \"Yinghua Zhang\", \"Yu Chen\",\"Rongrong Zheng\"]"
   ]
  },
  {
   "cell_type": "code",
   "execution_count": 3,
   "metadata": {},
   "outputs": [
    {
     "name": "stdout",
     "output_type": "stream",
     "text": [
      "Total 38 entries. The first 5 are showing below:\n"
     ]
    },
    {
     "data": {
      "text/html": [
       "<div>\n",
       "<style scoped>\n",
       "    .dataframe tbody tr th:only-of-type {\n",
       "        vertical-align: middle;\n",
       "    }\n",
       "\n",
       "    .dataframe tbody tr th {\n",
       "        vertical-align: top;\n",
       "    }\n",
       "\n",
       "    .dataframe thead th {\n",
       "        text-align: right;\n",
       "    }\n",
       "</style>\n",
       "<table border=\"1\" class=\"dataframe\">\n",
       "  <thead>\n",
       "    <tr style=\"text-align: right;\">\n",
       "      <th></th>\n",
       "      <th>Attended</th>\n",
       "      <th>User Name (Original Name)</th>\n",
       "      <th>Join Time</th>\n",
       "      <th>Leave Time</th>\n",
       "      <th>Time in Session (minutes)</th>\n",
       "      <th>Inviter</th>\n",
       "      <th>Inviter's SMD</th>\n",
       "    </tr>\n",
       "  </thead>\n",
       "  <tbody>\n",
       "    <tr>\n",
       "      <th>0</th>\n",
       "      <td>Yes</td>\n",
       "      <td>Hong Hu</td>\n",
       "      <td>Aug 15, 2021 12:55:41</td>\n",
       "      <td>Aug 15, 2021 12:55:57</td>\n",
       "      <td>1</td>\n",
       "      <td>Hong hu</td>\n",
       "      <td>Yuemei Ding/Perry Zhao</td>\n",
       "    </tr>\n",
       "    <tr>\n",
       "      <th>1</th>\n",
       "      <td>Yes</td>\n",
       "      <td>James Li</td>\n",
       "      <td>Aug 15, 2021 12:55:35</td>\n",
       "      <td>Aug 15, 2021 14:21:42</td>\n",
       "      <td>87</td>\n",
       "      <td>Yuemei Ding</td>\n",
       "      <td>Yuemei Ding/Perry Zhao</td>\n",
       "    </tr>\n",
       "    <tr>\n",
       "      <th>2</th>\n",
       "      <td>No</td>\n",
       "      <td>laoshi</td>\n",
       "      <td>--</td>\n",
       "      <td>--</td>\n",
       "      <td>--</td>\n",
       "      <td>Maggie</td>\n",
       "      <td>Yu Chen</td>\n",
       "    </tr>\n",
       "    <tr>\n",
       "      <th>3</th>\n",
       "      <td>Yes</td>\n",
       "      <td>Angela Liu</td>\n",
       "      <td>Aug 15, 2021 13:05:33</td>\n",
       "      <td>Aug 15, 2021 14:21:54</td>\n",
       "      <td>77</td>\n",
       "      <td>Angela liu</td>\n",
       "      <td>Yuemei Ding/Perry Zhao</td>\n",
       "    </tr>\n",
       "    <tr>\n",
       "      <th>4</th>\n",
       "      <td>Yes</td>\n",
       "      <td>Wei Zhou</td>\n",
       "      <td>Aug 15, 2021 12:51:11</td>\n",
       "      <td>Aug 15, 2021 14:21:54</td>\n",
       "      <td>91</td>\n",
       "      <td>Yuemei Ding</td>\n",
       "      <td>Yuemei Ding/Perry Zhao</td>\n",
       "    </tr>\n",
       "  </tbody>\n",
       "</table>\n",
       "</div>"
      ],
      "text/plain": [
       "  Attended User Name (Original Name)              Join Time  \\\n",
       "0      Yes                   Hong Hu  Aug 15, 2021 12:55:41   \n",
       "1      Yes                  James Li  Aug 15, 2021 12:55:35   \n",
       "2       No                    laoshi                     --   \n",
       "3      Yes                Angela Liu  Aug 15, 2021 13:05:33   \n",
       "4      Yes                  Wei Zhou  Aug 15, 2021 12:51:11   \n",
       "\n",
       "              Leave Time Time in Session (minutes)      Inviter  \\\n",
       "0  Aug 15, 2021 12:55:57                         1      Hong hu   \n",
       "1  Aug 15, 2021 14:21:42                        87  Yuemei Ding   \n",
       "2                     --                        --       Maggie   \n",
       "3  Aug 15, 2021 14:21:54                        77   Angela liu   \n",
       "4  Aug 15, 2021 14:21:54                        91  Yuemei Ding   \n",
       "\n",
       "            Inviter's SMD  \n",
       "0  Yuemei Ding/Perry Zhao  \n",
       "1  Yuemei Ding/Perry Zhao  \n",
       "2                 Yu Chen  \n",
       "3  Yuemei Ding/Perry Zhao  \n",
       "4  Yuemei Ding/Perry Zhao  "
      ]
     },
     "execution_count": 3,
     "metadata": {},
     "output_type": "execute_result"
    }
   ],
   "source": [
    "file_path = r\"C:\\Users\\carol\\Downloads\\82963520834 - Attendee Report.csv\"\n",
    "with open(file_path, 'r', encoding=\"utf-8\") as file: \n",
    "    for i, line in enumerate(file):\n",
    "        if line.startswith(\"Attendee Details\"):\n",
    "            breakline = i #line index where to break the csvfile\n",
    "df_original = pd.read_csv(file_path, header=breakline+1, index_col=False)\n",
    "df_original = df_original[[\"Attended\",\"User Name (Original Name)\",\"Join Time\",\"Leave Time\", \"Time in Session (minutes)\", \n",
    "         \"Inviter\", \"Inviter's SMD\"]]\n",
    "print(f\"Total {df_original.shape[0]} entries. The first 5 are showing below:\")\n",
    "df_original.head()"
   ]
  },
  {
   "cell_type": "code",
   "execution_count": 4,
   "metadata": {},
   "outputs": [
    {
     "name": "stdout",
     "output_type": "stream",
     "text": [
      "Total 8 attendees whoes Inviter's SMD is NaN. The first 5 (if any) are showing below:\n"
     ]
    },
    {
     "data": {
      "text/html": [
       "<div>\n",
       "<style scoped>\n",
       "    .dataframe tbody tr th:only-of-type {\n",
       "        vertical-align: middle;\n",
       "    }\n",
       "\n",
       "    .dataframe tbody tr th {\n",
       "        vertical-align: top;\n",
       "    }\n",
       "\n",
       "    .dataframe thead th {\n",
       "        text-align: right;\n",
       "    }\n",
       "</style>\n",
       "<table border=\"1\" class=\"dataframe\">\n",
       "  <thead>\n",
       "    <tr style=\"text-align: right;\">\n",
       "      <th></th>\n",
       "      <th>Attended</th>\n",
       "      <th>User Name (Original Name)</th>\n",
       "      <th>Join Time</th>\n",
       "      <th>Leave Time</th>\n",
       "      <th>Time in Session (minutes)</th>\n",
       "      <th>Inviter</th>\n",
       "      <th>Inviter's SMD</th>\n",
       "    </tr>\n",
       "  </thead>\n",
       "  <tbody>\n",
       "    <tr>\n",
       "      <th>6</th>\n",
       "      <td>Yes</td>\n",
       "      <td>Xia Shi</td>\n",
       "      <td>Aug 15, 2021 13:18:18</td>\n",
       "      <td>Aug 15, 2021 14:21:49</td>\n",
       "      <td>64</td>\n",
       "      <td>NaN</td>\n",
       "      <td>NaN</td>\n",
       "    </tr>\n",
       "    <tr>\n",
       "      <th>16</th>\n",
       "      <td>Yes</td>\n",
       "      <td>Ruiming Liu</td>\n",
       "      <td>Aug 15, 2021 13:51:08</td>\n",
       "      <td>Aug 15, 2021 14:21:45</td>\n",
       "      <td>31</td>\n",
       "      <td>NaN</td>\n",
       "      <td>NaN</td>\n",
       "    </tr>\n",
       "    <tr>\n",
       "      <th>27</th>\n",
       "      <td>Yes</td>\n",
       "      <td>Hong Chan</td>\n",
       "      <td>Aug 15, 2021 13:53:42</td>\n",
       "      <td>Aug 15, 2021 14:05:31</td>\n",
       "      <td>12</td>\n",
       "      <td>NaN</td>\n",
       "      <td>NaN</td>\n",
       "    </tr>\n",
       "    <tr>\n",
       "      <th>28</th>\n",
       "      <td>Yes</td>\n",
       "      <td>Hong Chan</td>\n",
       "      <td>Aug 15, 2021 13:17:27</td>\n",
       "      <td>Aug 15, 2021 13:53:06</td>\n",
       "      <td>36</td>\n",
       "      <td>NaN</td>\n",
       "      <td>NaN</td>\n",
       "    </tr>\n",
       "    <tr>\n",
       "      <th>34</th>\n",
       "      <td>Other Attended</td>\n",
       "      <td>NaN</td>\n",
       "      <td>NaN</td>\n",
       "      <td>NaN</td>\n",
       "      <td>NaN</td>\n",
       "      <td>NaN</td>\n",
       "      <td>NaN</td>\n",
       "    </tr>\n",
       "  </tbody>\n",
       "</table>\n",
       "</div>"
      ],
      "text/plain": [
       "          Attended User Name (Original Name)              Join Time  \\\n",
       "6              Yes                   Xia Shi  Aug 15, 2021 13:18:18   \n",
       "16             Yes               Ruiming Liu  Aug 15, 2021 13:51:08   \n",
       "27             Yes                 Hong Chan  Aug 15, 2021 13:53:42   \n",
       "28             Yes                 Hong Chan  Aug 15, 2021 13:17:27   \n",
       "34  Other Attended                       NaN                    NaN   \n",
       "\n",
       "               Leave Time Time in Session (minutes) Inviter Inviter's SMD  \n",
       "6   Aug 15, 2021 14:21:49                        64     NaN           NaN  \n",
       "16  Aug 15, 2021 14:21:45                        31     NaN           NaN  \n",
       "27  Aug 15, 2021 14:05:31                        12     NaN           NaN  \n",
       "28  Aug 15, 2021 13:53:06                        36     NaN           NaN  \n",
       "34                    NaN                       NaN     NaN           NaN  "
      ]
     },
     "execution_count": 4,
     "metadata": {},
     "output_type": "execute_result"
    }
   ],
   "source": [
    "df_smd_not_nan = df_original[~df_original[\"Inviter's SMD\"].isna()]\n",
    "df_smd_nan = df_original[df_original[\"Inviter's SMD\"].isna()]\n",
    "\n",
    "print(f\"Total {df_smd_nan.shape[0]} attendees whoes Inviter's SMD is NaN. The first 5 (if any) are showing below:\")\n",
    "df_smd_nan.head()"
   ]
  },
  {
   "cell_type": "code",
   "execution_count": 5,
   "metadata": {},
   "outputs": [],
   "source": [
    "#populate the NaN SMD based on User Name that appears before\n",
    "\n",
    "true_nan_index = [] #those index of true nan: SMD is NaN and NoWay of filling in because it only appears once with SMD NaN\n",
    "for i in df_smd_nan.index:\n",
    "    user_name = df_smd_nan.loc[i][\"User Name (Original Name)\"]\n",
    "    record_in_df_smd_not_nan = df_smd_not_nan[df_smd_not_nan[\"User Name (Original Name)\"]==user_name]\n",
    "    if record_in_df_smd_not_nan.shape[0] == 0:\n",
    "        true_nan_index.append(i)\n",
    "    elif record_in_df_smd_not_nan.shape[0] > 1:\n",
    "        record_in_df_smd_not_nan[\"Join Time\"] = pd.to_datetime(record_in_df_smd_not_nan[\"Join Time\"])\n",
    "        earliest_record_index = record_in_df_smd_not_nan[\"Join Time\"].sort_values().index.values[0]\n",
    "        missing_smd = record_in_df_smd_not_nan.loc[earliest_record_index][\"Inviter's SMD\"].values[0]\n",
    "        df_smd_nan.loc[i].fillna(value={\"Inviter's SMD\":missing_smd}, inplace=True)\n",
    "        if pd.isna(df_smd_nan.loc[i][\"Inviter\"]):\n",
    "            missing_inviter = record_in_df_smd_not_nan.loc[earliest_record_index][\"Inviter\"].values[0]\n",
    "            df_smd_nan.loc[i].fillna(value={\"Inviter\":missing_inviter}, inplace=True)\n",
    "    else: #record_in_df_smd_not_nan.shape[0] == 1\n",
    "        missing_smd = record_in_df_smd_not_nan[\"Inviter's SMD\"].values[0]\n",
    "        df_smd_nan.loc[i].fillna(value={\"Inviter's SMD\":missing_smd}, inplace=True)\n",
    "        if pd.isna(df_smd_nan.loc[i][\"Inviter\"]):\n",
    "            missing_inviter = record_in_df_smd_not_nan[\"Inviter\"].values[0]\n",
    "            df_smd_nan.loc[i].fillna(value={\"Inviter\":missing_inviter}, inplace=True)"
   ]
  },
  {
   "cell_type": "code",
   "execution_count": 6,
   "metadata": {},
   "outputs": [],
   "source": [
    "df_smd_comb = pd.concat((df_smd_not_nan, df_smd_nan),axis=0)\n",
    "df_true_nan = df_original.loc[true_nan_index]"
   ]
  },
  {
   "cell_type": "code",
   "execution_count": 7,
   "metadata": {},
   "outputs": [
    {
     "name": "stderr",
     "output_type": "stream",
     "text": [
      "<ipython-input-7-903a0fce9aab>:18: SettingWithCopyWarning: \n",
      "A value is trying to be set on a copy of a slice from a DataFrame.\n",
      "Try using .loc[row_indexer,col_indexer] = value instead\n",
      "\n",
      "See the caveats in the documentation: https://pandas.pydata.org/pandas-docs/stable/user_guide/indexing.html#returning-a-view-versus-a-copy\n",
      "  df_name['Time in Session (minutes)'] = pd.to_numeric(df_name['Time in Session (minutes)'], errors='coerce')\n",
      "C:\\Users\\carol\\anaconda3\\lib\\site-packages\\pandas\\core\\series.py:4517: SettingWithCopyWarning: \n",
      "A value is trying to be set on a copy of a slice from a DataFrame\n",
      "\n",
      "See the caveats in the documentation: https://pandas.pydata.org/pandas-docs/stable/user_guide/indexing.html#returning-a-view-versus-a-copy\n",
      "  return super().fillna(\n",
      "<ipython-input-7-903a0fce9aab>:23: SettingWithCopyWarning: \n",
      "A value is trying to be set on a copy of a slice from a DataFrame\n",
      "\n",
      "See the caveats in the documentation: https://pandas.pydata.org/pandas-docs/stable/user_guide/indexing.html#returning-a-view-versus-a-copy\n",
      "  df_inviter.sort_values(by='Time in Session (minutes)', ascending=False, inplace=True)\n"
     ]
    }
   ],
   "source": [
    "num_output_entries = 0\n",
    "for name in smds:\n",
    "    name_replaced = name.replace(\"/\",\" or \")\n",
    "    if df_smd_comb[df_smd_comb[\"Inviter's SMD\"]==name].shape[0] > 0:\n",
    "        file_name = f\"{name_replaced}_{date.today().strftime('%m-%d-%Y')}_Attendee Report.xlsx\"\n",
    "        workbook = xlsxwriter.Workbook(file_name)\n",
    "        worksheet = workbook.add_worksheet()\n",
    "        worksheet.write('A1', 'Attendee Details')\n",
    "        worksheet.write('A3', 'Attended')\n",
    "        worksheet.write('B3', 'User Name (Original Name)')\n",
    "        worksheet.write('C3', 'Join Time')\n",
    "        worksheet.write('D3', 'Leave Time')\n",
    "        worksheet.write('E3', 'Time in Session (minutes)')\n",
    "        worksheet.write('F3', 'Inviter')\n",
    "        worksheet.write('G3', \"Inviter's SMD\")\n",
    "        \n",
    "        df_name = df_smd_comb[df_smd_comb[\"Inviter's SMD\"]==name]\n",
    "        df_name['Time in Session (minutes)'] = pd.to_numeric(df_name['Time in Session (minutes)'], errors='coerce')\n",
    "        df_name['Inviter'].fillna(\"-\", inplace=True)\n",
    "        df_name_groups = []\n",
    "        for inviter, num_entries in df_name.groupby(\"Inviter\").size().sort_values(ascending=False).iteritems():\n",
    "            df_inviter = df_name[df_name[\"Inviter\"]==inviter]\n",
    "            df_inviter.sort_values(by='Time in Session (minutes)', ascending=False, inplace=True)\n",
    "            df_name_groups.append(df_inviter)\n",
    "        df_name = pd.concat(df_name_groups, axis=0)\n",
    "        df_name.reset_index(drop=True, inplace=True)\n",
    "        df_name.fillna(\"-\", inplace=True)\n",
    "        for i, row in df_name.iterrows():\n",
    "            worksheet.write(f'A{i+4}', row['Attended'])\n",
    "            worksheet.write(f'B{i+4}', row['User Name (Original Name)'])\n",
    "            worksheet.write(f'C{i+4}', row['Join Time'])\n",
    "            worksheet.write(f'D{i+4}', row['Leave Time'])\n",
    "            worksheet.write(f'E{i+4}', row['Time in Session (minutes)'])\n",
    "            worksheet.write(f'F{i+4}', row['Inviter'])\n",
    "            worksheet.write(f'G{i+4}', row[\"Inviter's SMD\"])\n",
    "            num_output_entries += 1\n",
    "        workbook.close()"
   ]
  },
  {
   "cell_type": "code",
   "execution_count": 8,
   "metadata": {},
   "outputs": [],
   "source": [
    "#write others \n",
    "df_true_nan.to_excel(f\"Others_{date.today().strftime('%m-%d-%Y')}_Attendee Report.xlsx\", index=False)"
   ]
  },
  {
   "cell_type": "code",
   "execution_count": 9,
   "metadata": {},
   "outputs": [
    {
     "name": "stdout",
     "output_type": "stream",
     "text": [
      "The total number of output entries without true Nans are 11.\n",
      "The total number of true Nans are 4.\n",
      "The total number of the above is 15.\n",
      "The total number of original records are 38.\n"
     ]
    }
   ],
   "source": [
    "print(f\"The total number of output entries without true Nans are {num_output_entries}.\")\n",
    "print(f\"The total number of true Nans are {len(true_nan_index)}.\")\n",
    "print(f\"The total number of the above is {num_output_entries + len(true_nan_index)}.\")\n",
    "print(f\"The total number of original records are {df_original.shape[0]}.\")"
   ]
  },
  {
   "cell_type": "code",
   "execution_count": null,
   "metadata": {},
   "outputs": [],
   "source": []
  }
 ],
 "metadata": {
  "kernelspec": {
   "display_name": "Python 3",
   "language": "python",
   "name": "python3"
  },
  "language_info": {
   "codemirror_mode": {
    "name": "ipython",
    "version": 3
   },
   "file_extension": ".py",
   "mimetype": "text/x-python",
   "name": "python",
   "nbconvert_exporter": "python",
   "pygments_lexer": "ipython3",
   "version": "3.8.5"
  }
 },
 "nbformat": 4,
 "nbformat_minor": 2
}
